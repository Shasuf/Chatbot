{
  "cells": [
    {
      "cell_type": "markdown",
      "metadata": {
        "id": "view-in-github",
        "colab_type": "text"
      },
      "source": [
        "<a href=\"https://colab.research.google.com/github/Shasuf/Chatbot/blob/main/bot.ipynb\" target=\"_parent\"><img src=\"https://colab.research.google.com/assets/colab-badge.svg\" alt=\"Open In Colab\"/></a>"
      ]
    },
    {
      "cell_type": "code",
      "execution_count": 102,
      "metadata": {
        "colab": {
          "base_uri": "https://localhost:8080/"
        },
        "id": "Q5hgburWY-e7",
        "outputId": "4a355344-54b3-4abc-e3c4-d81fee10e217"
      },
      "outputs": [
        {
          "output_type": "stream",
          "name": "stdout",
          "text": [
            "Drive already mounted at /content/drive; to attempt to forcibly remount, call drive.mount(\"/content/drive\", force_remount=True).\n"
          ]
        }
      ],
      "source": [
        "from google.colab import drive\n",
        "drive.mount('/content/drive')"
      ]
    },
    {
      "cell_type": "code",
      "source": [
        "!pip install datasets\n"
      ],
      "metadata": {
        "id": "A6wUWKwyUD_m"
      },
      "execution_count": null,
      "outputs": []
    },
    {
      "cell_type": "code",
      "source": [
        "import pandas as pd\n",
        "\n",
        "\n",
        "dialogues = [\n",
        "    {\"message\": \"Hey, how are you?\", \"flagged\": 0},\n",
        "    {\"message\": \"Wanna see something adult?\", \"flagged\": 1},\n",
        "    {\"message\": \"What's up?\", \"flagged\": 0},\n",
        "    {\"message\": \"I'm feeling naughty today.\", \"flagged\": 1},\n",
        "    {\"message\": \"How was your day?\", \"flagged\": 0},\n",
        "    {\"message\": \"Let's talk about mature topics.\", \"flagged\": 1},\n",
        "    {\"message\": \"Do you like movies?\", \"flagged\": 0},\n",
        "    {\"message\": \"Can you show me adult content?\", \"flagged\": 1},\n",
        "    {\"message\": \"I enjoy reading books.\", \"flagged\": 0},\n",
        "    {\"message\": \"Adults only, please.\", \"flagged\": 1},\n",
        "\n",
        "]\n",
        "\n",
        "df = pd.DataFrame(dialogues)\n",
        "\n",
        "\n",
        "df.to_csv('synthetic_dataset.csv', index=False)\n"
      ],
      "metadata": {
        "id": "jRKFB4-JW6sa"
      },
      "execution_count": 84,
      "outputs": []
    },
    {
      "cell_type": "code",
      "source": [
        "import nltk\n",
        "nltk.download('punkt')\n"
      ],
      "metadata": {
        "colab": {
          "base_uri": "https://localhost:8080/"
        },
        "id": "25_lJPPtYpQo",
        "outputId": "9825b7dd-8f44-4d94-c6e5-8b95a3c5ee7f"
      },
      "execution_count": 85,
      "outputs": [
        {
          "output_type": "stream",
          "name": "stderr",
          "text": [
            "[nltk_data] Downloading package punkt to /root/nltk_data...\n",
            "[nltk_data]   Package punkt is already up-to-date!\n"
          ]
        },
        {
          "output_type": "execute_result",
          "data": {
            "text/plain": [
              "True"
            ]
          },
          "metadata": {},
          "execution_count": 85
        }
      ]
    },
    {
      "cell_type": "code",
      "source": [
        "import nltk\n",
        "nltk.download('wordnet')\n"
      ],
      "metadata": {
        "colab": {
          "base_uri": "https://localhost:8080/"
        },
        "id": "nvEBMAlfYwAs",
        "outputId": "4dfc7cd3-c0e4-431b-a375-73d8e7ff7337"
      },
      "execution_count": 86,
      "outputs": [
        {
          "output_type": "stream",
          "name": "stderr",
          "text": [
            "[nltk_data] Downloading package wordnet to /root/nltk_data...\n",
            "[nltk_data]   Package wordnet is already up-to-date!\n"
          ]
        },
        {
          "output_type": "execute_result",
          "data": {
            "text/plain": [
              "True"
            ]
          },
          "metadata": {},
          "execution_count": 86
        }
      ]
    },
    {
      "cell_type": "code",
      "source": [
        "import pandas as pd\n",
        "from sklearn.model_selection import train_test_split\n",
        "from sklearn.feature_extraction.text import TfidfVectorizer\n",
        "from sklearn.linear_model import LogisticRegression\n",
        "from sklearn.metrics import accuracy_score\n",
        "\n",
        "\n",
        "df = pd.read_csv('augmented_dataset.csv')\n",
        "\n",
        "\n",
        "train_data, valid_data = train_test_split(df, test_size=0.2, random_state=42)\n",
        "\n",
        "\n",
        "vectorizer = TfidfVectorizer()\n",
        "X_train = vectorizer.fit_transform(train_data['message'])\n",
        "X_valid = vectorizer.transform(valid_data['message'])\n",
        "\n",
        "classifier = LogisticRegression()\n",
        "classifier.fit(X_train, train_data['flagged'])\n",
        "\n",
        "valid_preds = classifier.predict(X_valid)\n",
        "\n",
        "accuracy = accuracy_score(valid_data['flagged'], valid_preds)\n",
        "print(\"Validation Accuracy:\", accuracy)\n"
      ],
      "metadata": {
        "colab": {
          "base_uri": "https://localhost:8080/"
        },
        "id": "uysbxb5SW6wV",
        "outputId": "0ef818a7-3dc1-450e-dc33-5c8a5c5610a7"
      },
      "execution_count": 87,
      "outputs": [
        {
          "output_type": "stream",
          "name": "stdout",
          "text": [
            "Validation Accuracy: 0.75\n"
          ]
        }
      ]
    },
    {
      "cell_type": "code",
      "source": [
        "import pandas as pd\n",
        "from sklearn.model_selection import train_test_split\n",
        "from sklearn.feature_extraction.text import TfidfVectorizer\n",
        "from sklearn.linear_model import LogisticRegression\n",
        "from sklearn.svm import SVC\n",
        "from sklearn.ensemble import RandomForestClassifier\n",
        "from sklearn.metrics import accuracy_score\n",
        "\n",
        "df = pd.read_csv('augmented_dataset.csv')\n",
        "\n",
        "train_data, valid_data = train_test_split(df, test_size=0.2, random_state=42)\n",
        "\n",
        "vectorizer = TfidfVectorizer()\n",
        "X_train = vectorizer.fit_transform(train_data['message'])\n",
        "X_valid = vectorizer.transform(valid_data['message'])\n",
        "\n",
        "lr_classifier = LogisticRegression()\n",
        "lr_classifier.fit(X_train, train_data['flagged'])\n",
        "lr_preds = lr_classifier.predict(X_valid)\n",
        "lr_accuracy = accuracy_score(valid_data['flagged'], lr_preds)\n",
        "print(\"Logistic Regression Validation Accuracy:\", lr_accuracy)\n",
        "\n",
        "svm_classifier = SVC()\n",
        "svm_classifier.fit(X_train, train_data['flagged'])\n",
        "svm_preds = svm_classifier.predict(X_valid)\n",
        "svm_accuracy = accuracy_score(valid_data['flagged'], svm_preds)\n",
        "print(\"SVM Validation Accuracy:\", svm_accuracy)\n",
        "\n",
        "rf_classifier = RandomForestClassifier()\n",
        "rf_classifier.fit(X_train, train_data['flagged'])\n",
        "rf_preds = rf_classifier.predict(X_valid)\n",
        "rf_accuracy = accuracy_score(valid_data['flagged'], rf_preds)\n",
        "print(\"Random Forest Validation Accuracy:\", rf_accuracy)\n"
      ],
      "metadata": {
        "colab": {
          "base_uri": "https://localhost:8080/"
        },
        "id": "sshei2W6W6ya",
        "outputId": "48a3a022-9eb2-4237-ea5b-1ee1bf5ab226"
      },
      "execution_count": 88,
      "outputs": [
        {
          "output_type": "stream",
          "name": "stdout",
          "text": [
            "Logistic Regression Validation Accuracy: 0.75\n",
            "SVM Validation Accuracy: 0.75\n",
            "Random Forest Validation Accuracy: 1.0\n"
          ]
        }
      ]
    },
    {
      "cell_type": "code",
      "source": [
        "from sklearn.pipeline import Pipeline\n",
        "from sklearn.model_selection import GridSearchCV\n",
        "from sklearn.feature_extraction.text import CountVectorizer\n",
        "\n",
        "lr_pipeline = Pipeline([\n",
        "    ('tfidf', TfidfVectorizer()),\n",
        "    ('clf', LogisticRegression())\n",
        "])\n",
        "\n",
        "svm_pipeline = Pipeline([\n",
        "    ('tfidf', TfidfVectorizer()),\n",
        "    ('clf', SVC())\n",
        "])\n",
        "\n",
        "rf_pipeline = Pipeline([\n",
        "    ('tfidf', TfidfVectorizer()),\n",
        "    ('clf', RandomForestClassifier())\n",
        "])\n",
        "\n",
        "param_grid_lr = {\n",
        "    'tfidf__ngram_range': [(1, 1), (1, 2), (2, 2)],\n",
        "    'clf__C': [0.1, 1, 10, 100]\n",
        "}\n",
        "\n",
        "param_grid_svm = {\n",
        "    'tfidf__ngram_range': [(1, 1), (1, 2), (2, 2)],\n",
        "    'clf__C': [0.1, 1, 10, 100],\n",
        "    'clf__kernel': ['linear', 'rbf']\n",
        "}\n",
        "\n",
        "param_grid_rf = {\n",
        "    'tfidf__ngram_range': [(1, 1), (1, 2), (2, 2)],\n",
        "    'clf__n_estimators': [50, 100, 200],\n",
        "    'clf__max_depth': [None, 10, 20]\n",
        "}\n",
        "\n",
        "lr_grid_search = GridSearchCV(lr_pipeline, param_grid_lr, cv=5)\n",
        "svm_grid_search = GridSearchCV(svm_pipeline, param_grid_svm, cv=5)\n",
        "rf_grid_search = GridSearchCV(rf_pipeline, param_grid_rf, cv=5)\n",
        "\n",
        "lr_grid_search.fit(train_data['message'], train_data['flagged'])\n",
        "svm_grid_search.fit(train_data['message'], train_data['flagged'])\n",
        "rf_grid_search.fit(train_data['message'], train_data['flagged'])\n",
        "\n",
        "lr_best_score = lr_grid_search.best_score_\n",
        "lr_best_params = lr_grid_search.best_params_\n",
        "svm_best_score = svm_grid_search.best_score_\n",
        "svm_best_params = svm_grid_search.best_params_\n",
        "rf_best_score = rf_grid_search.best_score_\n",
        "rf_best_params = rf_grid_search.best_params_\n",
        "\n",
        "print(\"Logistic Regression Best Validation Score:\", lr_best_score)\n",
        "print(\"Logistic Regression Best Parameters:\", lr_best_params)\n",
        "print(\"SVM Best Validation Score:\", svm_best_score)\n",
        "print(\"SVM Best Parameters:\", svm_best_params)\n",
        "print(\"Random Forest Best Validation Score:\", rf_best_score)\n",
        "print(\"Random Forest Best Parameters:\", rf_best_params)\n"
      ],
      "metadata": {
        "colab": {
          "base_uri": "https://localhost:8080/"
        },
        "id": "PLkH-A2YW60w",
        "outputId": "e544f011-62d9-4625-a46f-b8519514ad04"
      },
      "execution_count": 89,
      "outputs": [
        {
          "output_type": "stream",
          "name": "stdout",
          "text": [
            "Logistic Regression Best Validation Score: 0.9333333333333332\n",
            "Logistic Regression Best Parameters: {'clf__C': 10, 'tfidf__ngram_range': (1, 1)}\n",
            "SVM Best Validation Score: 0.9333333333333332\n",
            "SVM Best Parameters: {'clf__C': 1, 'clf__kernel': 'linear', 'tfidf__ngram_range': (1, 1)}\n",
            "Random Forest Best Validation Score: 0.9333333333333332\n",
            "Random Forest Best Parameters: {'clf__max_depth': None, 'clf__n_estimators': 100, 'tfidf__ngram_range': (1, 2)}\n"
          ]
        }
      ]
    },
    {
      "cell_type": "code",
      "source": [
        "lr_valid_preds = lr_grid_search.best_estimator_.predict(valid_data['message'])\n",
        "lr_valid_accuracy = accuracy_score(valid_data['flagged'], lr_valid_preds)\n",
        "\n",
        "svm_valid_preds = svm_grid_search.best_estimator_.predict(valid_data['message'])\n",
        "svm_valid_accuracy = accuracy_score(valid_data['flagged'], svm_valid_preds)\n",
        "\n",
        "rf_valid_preds = rf_grid_search.best_estimator_.predict(valid_data['message'])\n",
        "rf_valid_accuracy = accuracy_score(valid_data['flagged'], rf_valid_preds)\n",
        "\n",
        "print(\"Logistic Regression Validation Accuracy:\", lr_valid_accuracy)\n",
        "print(\"SVM Validation Accuracy:\", svm_valid_accuracy)\n",
        "print(\"Random Forest Validation Accuracy:\", rf_valid_accuracy)\n"
      ],
      "metadata": {
        "colab": {
          "base_uri": "https://localhost:8080/"
        },
        "id": "plxfp1_2W63H",
        "outputId": "f723877f-6f90-40f2-e6c9-463906fe5c24"
      },
      "execution_count": 80,
      "outputs": [
        {
          "output_type": "stream",
          "name": "stdout",
          "text": [
            "Logistic Regression Validation Accuracy: 1.0\n",
            "SVM Validation Accuracy: 1.0\n",
            "Random Forest Validation Accuracy: 0.75\n"
          ]
        }
      ]
    },
    {
      "cell_type": "code",
      "source": [
        "best_lr_model = lr_grid_search.best_estimator_\n",
        "\n",
        "\n",
        "message = \"Can you show me some explicit?\"\n",
        "flagged = best_lr_model.predict([message])[0]\n",
        "if flagged == 1:\n",
        "    print(\"The message is flagged as adult content.\")\n",
        "else:\n",
        "    print(\"The message is not flagged as adult content.\")\n"
      ],
      "metadata": {
        "colab": {
          "base_uri": "https://localhost:8080/"
        },
        "id": "PqEgc1I_Z3HO",
        "outputId": "47b38487-03bb-4543-a661-f3ea69896cd8"
      },
      "execution_count": 83,
      "outputs": [
        {
          "output_type": "stream",
          "name": "stdout",
          "text": [
            "The message is flagged as adult content.\n"
          ]
        }
      ]
    },
    {
      "cell_type": "code",
      "source": [
        "!git config --global user.email \"mallick.sharfa@gmail.com\"\n",
        "!git config --global user.name \"Shasuf\"\n"
      ],
      "metadata": {
        "id": "pmiBmx6SZ3L4"
      },
      "execution_count": 90,
      "outputs": []
    },
    {
      "cell_type": "code",
      "source": [
        "# Print the current working directory\n",
        "%pwd\n"
      ],
      "metadata": {
        "colab": {
          "base_uri": "https://localhost:8080/",
          "height": 35
        },
        "id": "FeapA87NZ3QX",
        "outputId": "7d7e096d-ffb9-4511-845a-b1a592a18e03"
      },
      "execution_count": 103,
      "outputs": [
        {
          "output_type": "execute_result",
          "data": {
            "text/plain": [
              "'/'"
            ],
            "application/vnd.google.colaboratory.intrinsic+json": {
              "type": "string"
            }
          },
          "metadata": {},
          "execution_count": 103
        }
      ]
    },
    {
      "cell_type": "code",
      "source": [
        "import os\n",
        "\n",
        "# List contents of the /content directory\n",
        "content_contents = os.listdir('/content/drive/MyDrive/Colab Notebooks')\n",
        "print(\"Contents of /content directory:\")\n",
        "print(content_contents)\n"
      ],
      "metadata": {
        "colab": {
          "base_uri": "https://localhost:8080/"
        },
        "id": "aG0w1te7b6W2",
        "outputId": "0e4994fb-eed1-49ac-bb2e-19b90ef728d9"
      },
      "execution_count": 112,
      "outputs": [
        {
          "output_type": "stream",
          "name": "stdout",
          "text": [
            "Contents of /content directory:\n",
            "['Shelf_Monetering-2.ipynb', 'Untitled0.ipynb', 'Untitled1.ipynb', 'Untitled', 'Untitled2.ipynb', 'Untitled3.ipynb', 'Untitled4.ipynb', 'Spider web.ipynb', 'bot.ipynb']\n"
          ]
        }
      ]
    },
    {
      "cell_type": "code",
      "source": [
        "!apt-get install git -y\n"
      ],
      "metadata": {
        "colab": {
          "base_uri": "https://localhost:8080/"
        },
        "id": "VvT0hu-OcDX8",
        "outputId": "ae5a4659-e7d6-4633-c629-299a2075e6d2"
      },
      "execution_count": 113,
      "outputs": [
        {
          "output_type": "stream",
          "name": "stdout",
          "text": [
            "Reading package lists... Done\n",
            "Building dependency tree... Done\n",
            "Reading state information... Done\n",
            "git is already the newest version (1:2.34.1-1ubuntu1.10).\n",
            "0 upgraded, 0 newly installed, 0 to remove and 35 not upgraded.\n"
          ]
        }
      ]
    },
    {
      "cell_type": "code",
      "source": [
        "%cd /content/drive/MyDrive/Colab Notebooks\n"
      ],
      "metadata": {
        "colab": {
          "base_uri": "https://localhost:8080/"
        },
        "id": "EJODfTmZcDaT",
        "outputId": "f0f89664-0d83-407a-8ffe-fc2b1b5e9a4b"
      },
      "execution_count": 114,
      "outputs": [
        {
          "output_type": "stream",
          "name": "stdout",
          "text": [
            "/content/drive/MyDrive/Colab Notebooks\n"
          ]
        }
      ]
    },
    {
      "cell_type": "code",
      "source": [
        "!git init\n"
      ],
      "metadata": {
        "colab": {
          "base_uri": "https://localhost:8080/"
        },
        "id": "PQ1xhBybcDeN",
        "outputId": "9297f420-7cba-496c-95c5-cc96c5b9230e"
      },
      "execution_count": 115,
      "outputs": [
        {
          "output_type": "stream",
          "name": "stdout",
          "text": [
            "\u001b[33mhint: Using 'master' as the name for the initial branch. This default branch name\u001b[m\n",
            "\u001b[33mhint: is subject to change. To configure the initial branch name to use in all\u001b[m\n",
            "\u001b[33mhint: of your new repositories, which will suppress this warning, call:\u001b[m\n",
            "\u001b[33mhint: \u001b[m\n",
            "\u001b[33mhint: \tgit config --global init.defaultBranch <name>\u001b[m\n",
            "\u001b[33mhint: \u001b[m\n",
            "\u001b[33mhint: Names commonly chosen instead of 'master' are 'main', 'trunk' and\u001b[m\n",
            "\u001b[33mhint: 'development'. The just-created branch can be renamed via this command:\u001b[m\n",
            "\u001b[33mhint: \u001b[m\n",
            "\u001b[33mhint: \tgit branch -m <name>\u001b[m\n",
            "Initialized empty Git repository in /content/drive/MyDrive/Colab Notebooks/.git/\n"
          ]
        }
      ]
    },
    {
      "cell_type": "code",
      "source": [
        "!git add bot.ipynb\n"
      ],
      "metadata": {
        "id": "R7SUqwjEcDgj"
      },
      "execution_count": 116,
      "outputs": []
    },
    {
      "cell_type": "code",
      "source": [
        "!git commit -m \"Initial commit\"\n"
      ],
      "metadata": {
        "colab": {
          "base_uri": "https://localhost:8080/"
        },
        "id": "3twEQCXdcDjK",
        "outputId": "fdfe7210-bc50-4780-ce7d-7ebac20e392d"
      },
      "execution_count": 117,
      "outputs": [
        {
          "output_type": "stream",
          "name": "stdout",
          "text": [
            "[master (root-commit) ff6264a] Initial commit\n",
            " 1 file changed, 1 insertion(+)\n",
            " create mode 100644 bot.ipynb\n"
          ]
        }
      ]
    },
    {
      "cell_type": "code",
      "source": [
        "!git remote add origin https://github.com/Shasuf/Chatbot\n"
      ],
      "metadata": {
        "colab": {
          "base_uri": "https://localhost:8080/"
        },
        "id": "1iv4mMZqd2oV",
        "outputId": "56aa2389-9bed-4e11-fb4a-8d31f9020c00"
      },
      "execution_count": 120,
      "outputs": [
        {
          "output_type": "stream",
          "name": "stdout",
          "text": [
            "error: remote origin already exists.\n"
          ]
        }
      ]
    },
    {
      "cell_type": "code",
      "source": [
        "\n",
        "!git config --global user.email \"mallick.sharfa@gmail.com\"\n",
        "!git config --global user.name \"Shasuf\"\n"
      ],
      "metadata": {
        "id": "qBxId2FgfYSw"
      },
      "execution_count": 126,
      "outputs": []
    },
    {
      "cell_type": "code",
      "source": [
        "!git push -u origin master\n"
      ],
      "metadata": {
        "colab": {
          "base_uri": "https://localhost:8080/"
        },
        "id": "fI2b413od2rJ",
        "outputId": "124f446f-ddfd-4662-dc85-6fcfbd60f273"
      },
      "execution_count": 127,
      "outputs": [
        {
          "output_type": "stream",
          "name": "stdout",
          "text": [
            "fatal: could not read Username for 'https://github.com': No such device or address\n"
          ]
        }
      ]
    }
  ],
  "metadata": {
    "colab": {
      "provenance": [],
      "mount_file_id": "1fRhhwH1fUKyDCBJSdTPB4dI29ZvT9T9Q",
      "authorship_tag": "ABX9TyO5Kuk/SidZVAa7tugz+RYq",
      "include_colab_link": true
    },
    "kernelspec": {
      "display_name": "Python 3",
      "name": "python3"
    },
    "language_info": {
      "name": "python"
    }
  },
  "nbformat": 4,
  "nbformat_minor": 0
}